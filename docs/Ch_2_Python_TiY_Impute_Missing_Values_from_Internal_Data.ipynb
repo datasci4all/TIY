{
  "cells": [
    {
      "cell_type": "code",
      "execution_count": null,
      "metadata": {
        "id": "B73NwW7Md-uM"
      },
      "outputs": [],
      "source": [
        "#### Impute Missing Values from Internal Data ####\n",
        "\n",
        "# Importing necessary libraries\n",
        "import pandas as pd\n",
        "\n",
        "# Load the dataset\n",
        "data = pd.read_csv('vote.csv')\n",
        "\n",
        "# Calculate mean and median GPA before imputation\n",
        "mean_gpa_before = data['gpa'].mean()\n",
        "median_gpa_before = data['gpa'].median()\n",
        "\n",
        "# Perform mean imputation for missing GPA values\n",
        "mean_imputation_value = data['gpa'].mean()\n",
        "data['gpa_imputed'] = data['gpa'].fillna(mean_imputation_value)\n",
        "\n",
        "# Calculate mean and median GPA after imputation\n",
        "mean_gpa_after = data['gpa_imputed'].mean()\n",
        "median_gpa_after = data['gpa_imputed'].median()\n",
        "\n",
        "# Display the results\n",
        "print('Mean GPA before imputation:', mean_gpa_before)\n",
        "print('Median GPA before imputation:', median_gpa_before)\n",
        "print('Mean GPA after imputation:', mean_gpa_after)\n",
        "print('Median GPA after imputation:', median_gpa_after)"
      ]
    }
  ],
  "metadata": {
    "colab": {
      "provenance": []
    },
    "kernelspec": {
      "display_name": "Python 3 (ipykernel)",
      "language": "python",
      "name": "python3"
    },
    "language_info": {
      "codemirror_mode": {
        "name": "ipython",
        "version": 3
      },
      "file_extension": ".py",
      "mimetype": "text/x-python",
      "name": "python",
      "nbconvert_exporter": "python",
      "pygments_lexer": "ipython3",
      "version": "3.11.4"
    }
  },
  "nbformat": 4,
  "nbformat_minor": 0
}